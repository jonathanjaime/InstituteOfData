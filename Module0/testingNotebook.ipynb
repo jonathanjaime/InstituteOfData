{
 "cells": [
  {
   "cell_type": "markdown",
   "id": "8c43650d",
   "metadata": {},
   "source": [
    "# 1. Testing Notebook\n",
    "## Jonathan Jaime\n",
    "\n",
    "This notebook was developed to be used as an example of how to "
   ]
  },
  {
   "cell_type": "code",
   "execution_count": 4,
   "id": "e1e20993",
   "metadata": {},
   "outputs": [],
   "source": [
    "#Installing libraries\n",
    "#conda install numpy"
   ]
  },
  {
   "cell_type": "code",
   "execution_count": 3,
   "id": "aa81e22c",
   "metadata": {},
   "outputs": [],
   "source": [
    "#Calling libraries\n",
    "import pandas as pd\n",
    "import numpy as np\n",
    "import os"
   ]
  },
  {
   "cell_type": "code",
   "execution_count": null,
   "id": "11a59123",
   "metadata": {},
   "outputs": [],
   "source": []
  },
  {
   "cell_type": "code",
   "execution_count": null,
   "id": "2224eb0d",
   "metadata": {},
   "outputs": [],
   "source": []
  },
  {
   "cell_type": "code",
   "execution_count": null,
   "id": "7ad7fb42",
   "metadata": {},
   "outputs": [],
   "source": []
  },
  {
   "cell_type": "code",
   "execution_count": null,
   "id": "c9b542fa",
   "metadata": {},
   "outputs": [],
   "source": []
  },
  {
   "cell_type": "code",
   "execution_count": null,
   "id": "66146cfc",
   "metadata": {},
   "outputs": [],
   "source": []
  }
 ],
 "metadata": {
  "kernelspec": {
   "display_name": "Python 3 (ipykernel)",
   "language": "python",
   "name": "python3"
  },
  "language_info": {
   "codemirror_mode": {
    "name": "ipython",
    "version": 3
   },
   "file_extension": ".py",
   "mimetype": "text/x-python",
   "name": "python",
   "nbconvert_exporter": "python",
   "pygments_lexer": "ipython3",
   "version": "3.11.5"
  }
 },
 "nbformat": 4,
 "nbformat_minor": 5
}
